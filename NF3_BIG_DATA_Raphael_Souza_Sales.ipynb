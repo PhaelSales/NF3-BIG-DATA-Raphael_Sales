{
  "nbformat": 4,
  "nbformat_minor": 0,
  "metadata": {
    "colab": {
      "provenance": [],
      "authorship_tag": "ABX9TyOJ3Zs2ihYIJAng4u/0HR6f",
      "include_colab_link": true
    },
    "kernelspec": {
      "name": "python3",
      "display_name": "Python 3"
    },
    "language_info": {
      "name": "python"
    }
  },
  "cells": [
    {
      "cell_type": "markdown",
      "metadata": {
        "id": "view-in-github",
        "colab_type": "text"
      },
      "source": [
        "<a href=\"https://colab.research.google.com/github/PhaelSales/NF3-BIG-DATA-Raphael_Sales/blob/main/NF3_BIG_DATA_Raphael_Souza_Sales.ipynb\" target=\"_parent\"><img src=\"https://colab.research.google.com/assets/colab-badge.svg\" alt=\"Open In Colab\"/></a>"
      ]
    },
    {
      "cell_type": "markdown",
      "source": [
        "1. Obtenha o dataset do endereço https://www.w3resource.com/pythonexercises/pandas/filter/world_alcohol.csv e realize as seguintes análises (2,5 pontos):\n",
        "\n",
        "\n",
        "OBS: Hover um acesso negado ao dataset do link, e o mesmo foi armazenado no seu github, como o da 2ª questão."
      ],
      "metadata": {
        "id": "SilwhhyfCzuq"
      }
    },
    {
      "cell_type": "code",
      "execution_count": null,
      "metadata": {
        "id": "K1ynL7IVrM7q"
      },
      "outputs": [],
      "source": [
        "import pandas as pd\n",
        "\n",
        "data = pd.read_csv('https://raw.githubusercontent.com/PhaelSales/NF3-BIG-DATA-Raphael_Sales/main/world_alcohol.csv', encoding = 'latin-1')\n",
        "\n",
        "# a. Agrupe os dados por tipo de bebidas;\n",
        "agruparBebidas = data.groupby('Beverage Types')\n",
        "\n",
        "# b. Agrupe os dados por Região e por Ano;\n",
        "agruparRegiaoAno = data.groupby(['WHO region', 'Year'])\n",
        "\n",
        "# c. Seção de Contagens: Contar a ocorrência de Regiões, de Países e a soma da coluna de valores por Bebida.\n",
        "contagem = agruparBebidas.agg({'WHO region': 'count', 'Country': 'nunique', 'Display Value': 'sum'})\n",
        "print('|Tabela Seção de Contagens|\\n', contagem, '\\n\\n')\n",
        "\n",
        "# d. Realize análises estatísticas da coluna dos valores: Média, Moda, Mediana, Estatística Descritiva\n",
        "media = data['Display Value'].mean().round(2)\n",
        "moda = data['Display Value'].mode().values[0]\n",
        "mediana = data['Display Value'].median()\n",
        "estatísticas = data['Display Value'].describe()\n",
        "print('|Análises estatísticas da coluna dos valores|')\n",
        "print('Média:', media)\n",
        "print('Moda:', moda)\n",
        "print('Mediana:', mediana,'\\n')\n",
        "print('Estatísticas Descritivas:\\n', estatísticas)\n",
        "\n",
        "# d. Gragico de comparação dos valores agrupados por tipo de bebida.\n",
        "grafico = contagem.loc[contagem['Display Value'] >= 0]\n",
        "grafico.plot.bar()\n",
        "\n",
        "#e. Mostre resultados de acordo com alguns critérios:\n",
        "#i. Mostrar a coluna de bebidas do ano de 1985.\n",
        "bebidas1985 = data.loc[data['Year'] == 1985, ['Year', 'Beverage Types']]\n",
        "print('\\n\\n|Coluna de bebidas do ano de 1985|\\n', bebidas1985)\n",
        "\n",
        "#ii. Mostrar a coluna de Região com valores acima de 4.\n",
        "regiaoValores4 = data.loc[data['Display Value'] > 4, ['WHO region', 'Country', 'Display Value']]\n",
        "\n",
        "print('\\n|Tabela de Região com valores acima de 4|\\n', regiaoValores4, '\\n')"
      ]
    },
    {
      "cell_type": "markdown",
      "source": [
        "2. Seja o dataset chamado cursos-prouni.csv que se encontra no endereço Cursos e notas de corte do\n",
        "PROUNI 2018 - Datasets - Brasil.IO. Baixe o arquivo, armazene no seu github** e obtenha os dados\n",
        "a partir desse endereço do github e realize as seguintes análises (2,5 pontos):"
      ],
      "metadata": {
        "id": "2QP5YJ3vCpY8"
      }
    },
    {
      "cell_type": "code",
      "source": [
        "import pandas as pd\n",
        "\n",
        "data = pd.read_csv('https://raw.githubusercontent.com/PhaelSales/NF3-BIG-DATA-Raphael_Sales/main/cursos-prouni.csv', encoding='latin-1')\n",
        "\n",
        "# a. Efetuar a limpeza das colunas de notas: onde tiver NaN (Not a Number), substituir por 0,0.\n",
        "data['nota_integral_ampla'].fillna(0.0, inplace=True)\n",
        "data['nota_integral_cotas'].fillna(0.0, inplace=True)\n",
        "data['nota_parcial_ampla'].fillna(0.0, inplace=True)\n",
        "data['nota_parcial_cotas'].fillna(0.0, inplace=True)\n",
        "\n",
        "#b. Agrupe os dados pelo grau (Bacharelado, Licenciatura, etc).\n",
        "data['grau'] = data['grau'].str.replace('TecnolÃ³gico', 'Tecnologico')\n",
        "agruparGrau = data.groupby('grau').mean()\n",
        "print('|Tabela com os graus agrupados|\\n', agruparGrau, '\\n\\n')\n",
        "\n",
        "# c. Agrupe os dados pelos cursos de Matemática, Medicina e Pedagogia\n",
        "data['curso_busca'] = data['curso_busca'].str.replace('MatemÃ¡tica', 'Matematica')\n",
        "selectCursos = ['Matematica', 'Medicina', 'Pedagogia']\n",
        "agruparselectCursos = data[data['curso_busca'].isin(selectCursos)].groupby('curso_busca').mean()\n",
        "print('|Tabela com os cursos de Matemática, Medicina e Pedagogia agrupados|\\n', agruparselectCursos, '\\n\\n')\n",
        "\n",
        "# d. Agrupe os dados por Estado e obtenha a média de notas de corte por Estado.\n",
        "estadosCotaCorte = data.groupby('uf_busca').mean()['nota_integral_ampla'].round(2)\n",
        "print('|Tabela com as média de notas de corte por Estado|\\n', estadosCotaCorte, '\\n\\n')\n",
        "\n",
        "# e. Agrupe os dados pelos cursos Tecnológicos.\n",
        "filtrarTec = data[data['grau'] == 'Tecnologico']\n",
        "agruparCursosTec = filtrarTec.groupby('curso_busca').mean()\n",
        "print('|Tabela com cursos Tecnológicos disponivés|\\n', agruparCursosTec, '\\n\\n')\n",
        "\n",
        "# f. Elimine a coluna “cidade_filtro” do dataframe.\n",
        "data = data.drop(\"cidade_filtro\", axis=1)\n",
        "\n",
        "# g. Apresente a média das mensalidades dos cursos de Medicina.\n",
        "filtrarMedicina = data[data['curso_busca'] == 'Medicina']\n",
        "mediaMensalidadeMedic = filtrarMedicina['mensalidade'].mean().round(2)\n",
        "print('A media das mensalidades dos cursos de Medicina é:',mediaMensalidadeMedic, '\\n')\n",
        "\n",
        "# h. Média das notas de corte dos cursos de tempo integral.\n",
        "filtrarTurnoIntegral = data[data['turno'] == 'Integral']\n",
        "mediaCorteTurnoIntegral = filtrarTurnoIntegral['nota_integral_ampla'].mean().round(2)\n",
        "print('A media das notas de corte dos cursos do turno Integral:',mediaCorteTurnoIntegral, '\\n\\n')\n",
        "\n",
        "# i. Estatística Descritiva das Notas Integral Ampla dos cursos de Bacharelado.\n",
        "filtrarBacharelado = data[data['grau'] == 'Bacharelado']\n",
        "estatisticasNotasBacharelado = filtrarBacharelado['nota_integral_ampla'].describe()\n",
        "print('Estatística Descritiva das Notas Integral Ampla dos cursos de Bacharelado:', estatisticasNotasBacharelado, '\\n\\n')\n",
        "\n",
        "# j. Gráfico comparativo entre o grau dos cursos (Bacharelado, Licenciatura, Tecnologia, etc) pelas Notas Integral de Cotas\n",
        "filtrarLicenci = data[data['grau'] == 'Licenciatura']\n",
        "\n",
        "notaCotaBacharelado = filtrarBacharelado['nota_integral_cotas'].mean().round(2)\n",
        "notasCotaLicenciatura = filtrarLicenci['nota_integral_cotas'].mean().round(2)\n",
        "notasCotaTecnologia = filtrarTec['nota_integral_cotas'].mean().round(2)\n",
        "dataMediaNota = {'Grau': ['Bacharelado', 'Licenciatura', 'Tecnologia'],\n",
        "              'Media das Notas de Cota': [notaCotaBacharelado, notasCotaLicenciatura, notasCotaLicenciatura]}\n",
        "dfMediaNota = pd.DataFrame(dataMediaNota)\n",
        "\n",
        "graficoGraus = dfMediaNota.loc[dfMediaNota['Media das Notas de Cota'] >= 0]\n",
        "graficoGraus.plot.bar(x='Grau')\n"
      ],
      "metadata": {
        "id": "OZcEZC1s7VeW"
      },
      "execution_count": null,
      "outputs": []
    }
  ]
}